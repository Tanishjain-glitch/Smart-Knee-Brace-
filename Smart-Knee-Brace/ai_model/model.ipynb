
# Anomaly Detection Model for Gait Pattern
import pandas as pd
from sklearn.ensemble import IsolationForest

# Load pre-processed data (angles, flex, motion)
df = pd.read_csv('gait_data.csv')

model = IsolationForest(contamination=0.1)
model.fit(df[['knee_angle', 'flex_reading', 'gyro_x']])

# Predict anomalies
df['anomaly'] = model.predict(df[['knee_angle', 'flex_reading', 'gyro_x']])
df['anomaly'] = df['anomaly'].map({1: 0, -1: 1})
